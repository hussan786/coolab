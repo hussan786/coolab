{
 "cells": [
  {
   "cell_type": "code",
   "execution_count": 1,
   "metadata": {},
   "outputs": [
    {
     "name": "stdout",
     "output_type": "stream",
     "text": [
      " hello world!\n"
     ]
    }
   ],
   "source": [
    "# this program print the Hello, world!\n",
    "print(\" hello world!\")"
   ]
  },
  {
   "cell_type": "code",
   "execution_count": 6,
   "metadata": {},
   "outputs": [
    {
     "name": "stdout",
     "output_type": "stream",
     "text": [
      " the result of the sum is  10\n"
     ]
    }
   ],
   "source": [
    "# this program add two numbers \n",
    "num1=4\n",
    "num2=6\n",
    "sum=num1 + num2\n",
    "print(\" the result of the sum is \", sum)"
   ]
  },
  {
   "cell_type": "code",
   "execution_count": 16,
   "metadata": {},
   "outputs": [
    {
     "name": "stdout",
     "output_type": "stream",
     "text": [
      " the square root of  2.8284271247461903\n"
     ]
    }
   ],
   "source": [
    "#python program to calculate the square root \n",
    "num= 8\n",
    "num_sqrt=num**0.5\n",
    "print(' the square root of ', num_sqrt )"
   ]
  },
  {
   "cell_type": "code",
   "execution_count": null,
   "metadata": {},
   "outputs": [],
   "source": []
  }
 ],
 "metadata": {
  "kernelspec": {
   "display_name": "Python 3",
   "language": "python",
   "name": "python3"
  },
  "language_info": {
   "codemirror_mode": {
    "name": "ipython",
    "version": 3
   },
   "file_extension": ".py",
   "mimetype": "text/x-python",
   "name": "python",
   "nbconvert_exporter": "python",
   "pygments_lexer": "ipython3",
   "version": "3.12.3"
  }
 },
 "nbformat": 4,
 "nbformat_minor": 2
}
